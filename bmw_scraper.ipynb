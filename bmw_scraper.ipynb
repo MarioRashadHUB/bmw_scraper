{
 "cells": [
  {
   "cell_type": "markdown",
   "metadata": {},
   "source": [
    "### Imports"
   ]
  },
  {
   "cell_type": "code",
   "execution_count": 1,
   "metadata": {},
   "outputs": [],
   "source": [
    "from bs4 import BeautifulSoup\n",
    "import requests\n",
    "import pandas as pd"
   ]
  },
  {
   "cell_type": "markdown",
   "metadata": {},
   "source": [
    "### HTTP Request"
   ]
  },
  {
   "cell_type": "markdown",
   "metadata": {},
   "source": [
    "#### store website in variable"
   ]
  },
  {
   "cell_type": "code",
   "execution_count": 2,
   "metadata": {},
   "outputs": [],
   "source": [
    "website = 'https://www.cars.com/shopping/results/?dealer_id=&keyword=&list_price_max=&list_price_min=&makes[]=bmw&maximum_distance=all&mileage_max=&models[]=bmw-335&page_size=20&sort=best_match_desc&stock_type=used&year_max=2011&year_min=2007&zip='\n",
    "# website_new_listings = 'https://www.cars.com/shopping/results/?dealer_id=&keyword=&list_price_max=&list_price_min=&makes[]=bmw&maximum_distance=all&mileage_max=&page_size=20&sort=best_match_desc&stock_type=cpo&year_max=&year_min=&zip='"
   ]
  },
  {
   "cell_type": "markdown",
   "metadata": {},
   "source": [
    "#### Get Request"
   ]
  },
  {
   "cell_type": "code",
   "execution_count": 3,
   "metadata": {},
   "outputs": [],
   "source": [
    "response = requests.get(website)"
   ]
  },
  {
   "cell_type": "markdown",
   "metadata": {},
   "source": [
    "#### Status Code"
   ]
  },
  {
   "cell_type": "code",
   "execution_count": 4,
   "metadata": {},
   "outputs": [
    {
     "data": {
      "text/plain": [
       "200"
      ]
     },
     "execution_count": 4,
     "metadata": {},
     "output_type": "execute_result"
    }
   ],
   "source": [
    "response.status_code"
   ]
  },
  {
   "cell_type": "markdown",
   "metadata": {},
   "source": [
    "### Soup Object"
   ]
  },
  {
   "cell_type": "code",
   "execution_count": 5,
   "metadata": {},
   "outputs": [],
   "source": [
    "soup = BeautifulSoup(response.content, 'html.parser')"
   ]
  },
  {
   "cell_type": "markdown",
   "metadata": {},
   "source": [
    "### Results"
   ]
  },
  {
   "cell_type": "code",
   "execution_count": 6,
   "metadata": {},
   "outputs": [],
   "source": [
    "results = soup.find_all('div', {'class':'vehicle-card'})"
   ]
  },
  {
   "cell_type": "code",
   "execution_count": 7,
   "metadata": {},
   "outputs": [
    {
     "data": {
      "text/plain": [
       "20"
      ]
     },
     "execution_count": 7,
     "metadata": {},
     "output_type": "execute_result"
    }
   ],
   "source": [
    "len(results)"
   ]
  },
  {
   "cell_type": "markdown",
   "metadata": {},
   "source": [
    "### Target necessary data"
   ]
  },
  {
   "cell_type": "code",
   "execution_count": 8,
   "metadata": {},
   "outputs": [],
   "source": [
    "# Name\n",
    "# Mileage\n",
    "# Dealer Name\n",
    "# Rating\n",
    "# Rating Count\n",
    "# Price\n",
    "# Car dealer name"
   ]
  },
  {
   "cell_type": "markdown",
   "metadata": {},
   "source": [
    "#### Name"
   ]
  },
  {
   "cell_type": "code",
   "execution_count": 9,
   "metadata": {},
   "outputs": [
    {
     "data": {
      "text/plain": [
       "'2009 BMW 335 i'"
      ]
     },
     "execution_count": 9,
     "metadata": {},
     "output_type": "execute_result"
    }
   ],
   "source": [
    "results[0].find('h2').get_text()"
   ]
  },
  {
   "cell_type": "markdown",
   "metadata": {},
   "source": [
    "#### Mileage"
   ]
  },
  {
   "cell_type": "code",
   "execution_count": 10,
   "metadata": {},
   "outputs": [
    {
     "data": {
      "text/plain": [
       "'76,192 mi.'"
      ]
     },
     "execution_count": 10,
     "metadata": {},
     "output_type": "execute_result"
    }
   ],
   "source": [
    "results[0].find('div', {'class':'mileage'}).get_text()"
   ]
  },
  {
   "cell_type": "markdown",
   "metadata": {},
   "source": [
    "#### Rating"
   ]
  },
  {
   "cell_type": "code",
   "execution_count": 11,
   "metadata": {},
   "outputs": [
    {
     "data": {
      "text/plain": [
       "'3.0'"
      ]
     },
     "execution_count": 11,
     "metadata": {},
     "output_type": "execute_result"
    }
   ],
   "source": [
    "results[0].find('span',{'class':'sds-rating__count'}).get_text()"
   ]
  },
  {
   "cell_type": "markdown",
   "metadata": {},
   "source": [
    "#### Review Count"
   ]
  },
  {
   "cell_type": "code",
   "execution_count": 12,
   "metadata": {},
   "outputs": [
    {
     "data": {
      "text/plain": [
       "'(35 reviews)'"
      ]
     },
     "execution_count": 12,
     "metadata": {},
     "output_type": "execute_result"
    }
   ],
   "source": [
    "results[0].find('span', {'class': 'sds-rating__link'}).get_text()"
   ]
  },
  {
   "cell_type": "markdown",
   "metadata": {},
   "source": [
    "#### Price"
   ]
  },
  {
   "cell_type": "code",
   "execution_count": 13,
   "metadata": {},
   "outputs": [
    {
     "data": {
      "text/plain": [
       "'$16,995'"
      ]
     },
     "execution_count": 13,
     "metadata": {},
     "output_type": "execute_result"
    }
   ],
   "source": [
    "results[0].find('span', {'class': 'primary-price'}).get_text()"
   ]
  },
  {
   "cell_type": "markdown",
   "metadata": {},
   "source": [
    "#### Car Dealer"
   ]
  },
  {
   "cell_type": "code",
   "execution_count": 14,
   "metadata": {},
   "outputs": [
    {
     "data": {
      "text/plain": [
       "\"Jet's Auto Sales\""
      ]
     },
     "execution_count": 14,
     "metadata": {},
     "output_type": "execute_result"
    }
   ],
   "source": [
    "results[0].find('div', {'class': 'dealer-name'}).get_text().strip()"
   ]
  },
  {
   "cell_type": "markdown",
   "metadata": {},
   "source": [
    "### Put everything together inside a For-Loop"
   ]
  },
  {
   "cell_type": "code",
   "execution_count": 15,
   "metadata": {},
   "outputs": [],
   "source": [
    "name = []\n",
    "mileage = []\n",
    "dealer_name = []\n",
    "rating = []\n",
    "rating_count = []\n",
    "price = []\n",
    "\n",
    "for result in results:\n",
    "    \n",
    "    # name\n",
    "    try:\n",
    "        name.append(result.find('h2').get_text())\n",
    "    except:\n",
    "        name.append('n/a')\n",
    "        \n",
    "          \n",
    "    # mileage\n",
    "    try:\n",
    "        mileage.append(result.find('div', {'class':'mileage'}).get_text())\n",
    "    except:\n",
    "        mileage.append('n/a')\n",
    "    \n",
    "    # dealer_name\n",
    "    try:\n",
    "        dealer_name.append(result.find('div', {'class': 'dealer-name'}).get_text().strip())\n",
    "    except:\n",
    "        dealer_name.append('n/a')\n",
    "        \n",
    "    # rating\n",
    "    try:\n",
    "        rating.append(result.find('span',{'class':'sds-rating__count'}).get_text())\n",
    "    except:\n",
    "        rating.append('n/a')\n",
    "    \n",
    "    \n",
    "    # rating_count\n",
    "    try:\n",
    "        rating_count.append(result.find('span', {'class': 'sds-rating__link'}).get_text())\n",
    "    except:\n",
    "        rating_count.append('n/a')\n",
    "    \n",
    "    \n",
    "    # price\n",
    "    try:\n",
    "        price.append(result.find('span', {'class': 'primary-price'}).get_text())\n",
    "    except:\n",
    "        price.append('n/a')\n"
   ]
  },
  {
   "cell_type": "code",
   "execution_count": 16,
   "metadata": {},
   "outputs": [
    {
     "data": {
      "text/plain": [
       "['2009 BMW 335 i',\n",
       " '2011 BMW 335 i xDrive',\n",
       " '2010 BMW 335 i',\n",
       " '2011 BMW 335 is',\n",
       " '2009 BMW 335 i',\n",
       " '2011 BMW 335 i',\n",
       " '2011 BMW 335 i',\n",
       " '2010 BMW 335 i',\n",
       " '2011 BMW 335 i',\n",
       " '2010 BMW 335 i',\n",
       " '2010 BMW 335 i',\n",
       " '2011 BMW 335 is',\n",
       " '2011 BMW 335 i',\n",
       " '2011 BMW 335 i',\n",
       " '2009 BMW 335 i xDrive',\n",
       " '2010 BMW 335 i',\n",
       " '2008 BMW 335 i',\n",
       " '2011 BMW 335 i xDrive',\n",
       " '2011 BMW 335 i',\n",
       " '2011 BMW 335 i']"
      ]
     },
     "execution_count": 16,
     "metadata": {},
     "output_type": "execute_result"
    }
   ],
   "source": [
    "name"
   ]
  },
  {
   "cell_type": "markdown",
   "metadata": {},
   "source": [
    "### Create Pandas Dataframe"
   ]
  },
  {
   "cell_type": "code",
   "execution_count": 18,
   "metadata": {},
   "outputs": [],
   "source": [
    "bmw335i_df = pd.DataFrame({'Name':name, 'Mileage': mileage,'Dealer Name': dealer_name,\n",
    "                          'Rating': rating, 'Rating Count': rating_count, 'Price':price})"
   ]
  },
  {
   "cell_type": "code",
   "execution_count": 19,
   "metadata": {},
   "outputs": [
    {
     "data": {
      "text/html": [
       "<div>\n",
       "<style scoped>\n",
       "    .dataframe tbody tr th:only-of-type {\n",
       "        vertical-align: middle;\n",
       "    }\n",
       "\n",
       "    .dataframe tbody tr th {\n",
       "        vertical-align: top;\n",
       "    }\n",
       "\n",
       "    .dataframe thead th {\n",
       "        text-align: right;\n",
       "    }\n",
       "</style>\n",
       "<table border=\"1\" class=\"dataframe\">\n",
       "  <thead>\n",
       "    <tr style=\"text-align: right;\">\n",
       "      <th></th>\n",
       "      <th>Name</th>\n",
       "      <th>Mileage</th>\n",
       "      <th>Dealer Name</th>\n",
       "      <th>Rating</th>\n",
       "      <th>Rating Count</th>\n",
       "      <th>Price</th>\n",
       "    </tr>\n",
       "  </thead>\n",
       "  <tbody>\n",
       "    <tr>\n",
       "      <th>0</th>\n",
       "      <td>2009 BMW 335 i</td>\n",
       "      <td>76,192 mi.</td>\n",
       "      <td>Jet's Auto Sales</td>\n",
       "      <td>3.0</td>\n",
       "      <td>(35 reviews)</td>\n",
       "      <td>$16,995</td>\n",
       "    </tr>\n",
       "    <tr>\n",
       "      <th>1</th>\n",
       "      <td>2011 BMW 335 i xDrive</td>\n",
       "      <td>66,689 mi.</td>\n",
       "      <td>Fort Wayne Nissan</td>\n",
       "      <td>4.5</td>\n",
       "      <td>(651 reviews)</td>\n",
       "      <td>$15,291</td>\n",
       "    </tr>\n",
       "    <tr>\n",
       "      <th>2</th>\n",
       "      <td>2010 BMW 335 i</td>\n",
       "      <td>42,951 mi.</td>\n",
       "      <td>Carmel Motors</td>\n",
       "      <td>3.8</td>\n",
       "      <td>(77 reviews)</td>\n",
       "      <td>$21,995</td>\n",
       "    </tr>\n",
       "    <tr>\n",
       "      <th>3</th>\n",
       "      <td>2011 BMW 335 is</td>\n",
       "      <td>63,000 mi.</td>\n",
       "      <td>n/a</td>\n",
       "      <td>n/a</td>\n",
       "      <td>n/a</td>\n",
       "      <td>$28,500</td>\n",
       "    </tr>\n",
       "    <tr>\n",
       "      <th>4</th>\n",
       "      <td>2009 BMW 335 i</td>\n",
       "      <td>80,386 mi.</td>\n",
       "      <td>Mac Haik Chevrolet</td>\n",
       "      <td>4.5</td>\n",
       "      <td>(637 reviews)</td>\n",
       "      <td>$13,991</td>\n",
       "    </tr>\n",
       "    <tr>\n",
       "      <th>5</th>\n",
       "      <td>2011 BMW 335 i</td>\n",
       "      <td>144,225 mi.</td>\n",
       "      <td>Auto Boutique</td>\n",
       "      <td>4.8</td>\n",
       "      <td>(1,040 reviews)</td>\n",
       "      <td>$8,000</td>\n",
       "    </tr>\n",
       "    <tr>\n",
       "      <th>6</th>\n",
       "      <td>2011 BMW 335 i</td>\n",
       "      <td>55,578 mi.</td>\n",
       "      <td>CarMax West Sahara - Now offering Curbside Pic...</td>\n",
       "      <td>2.6</td>\n",
       "      <td>(11 reviews)</td>\n",
       "      <td>$23,998</td>\n",
       "    </tr>\n",
       "    <tr>\n",
       "      <th>7</th>\n",
       "      <td>2010 BMW 335 i</td>\n",
       "      <td>50,446 mi.</td>\n",
       "      <td>Ride N Drive</td>\n",
       "      <td>4.4</td>\n",
       "      <td>(21 reviews)</td>\n",
       "      <td>$17,988</td>\n",
       "    </tr>\n",
       "    <tr>\n",
       "      <th>8</th>\n",
       "      <td>2011 BMW 335 i</td>\n",
       "      <td>76,009 mi.</td>\n",
       "      <td>Cox &amp; Co. Motorcars</td>\n",
       "      <td>4.8</td>\n",
       "      <td>(49 reviews)</td>\n",
       "      <td>$19,990</td>\n",
       "    </tr>\n",
       "    <tr>\n",
       "      <th>9</th>\n",
       "      <td>2010 BMW 335 i</td>\n",
       "      <td>81,942 mi.</td>\n",
       "      <td>Newberg Chevrolet</td>\n",
       "      <td>4.5</td>\n",
       "      <td>(74 reviews)</td>\n",
       "      <td>$16,800</td>\n",
       "    </tr>\n",
       "    <tr>\n",
       "      <th>10</th>\n",
       "      <td>2010 BMW 335 i</td>\n",
       "      <td>86,733 mi.</td>\n",
       "      <td>BMW Mini of Birmingham</td>\n",
       "      <td>4.6</td>\n",
       "      <td>(711 reviews)</td>\n",
       "      <td>$12,997</td>\n",
       "    </tr>\n",
       "    <tr>\n",
       "      <th>11</th>\n",
       "      <td>2011 BMW 335 is</td>\n",
       "      <td>80,520 mi.</td>\n",
       "      <td>Atlantis Auto City</td>\n",
       "      <td>3.9</td>\n",
       "      <td>(29 reviews)</td>\n",
       "      <td>$19,995</td>\n",
       "    </tr>\n",
       "    <tr>\n",
       "      <th>12</th>\n",
       "      <td>2011 BMW 335 i</td>\n",
       "      <td>51,553 mi.</td>\n",
       "      <td>North Bay Imports</td>\n",
       "      <td>4.5</td>\n",
       "      <td>(136 reviews)</td>\n",
       "      <td>$22,995</td>\n",
       "    </tr>\n",
       "    <tr>\n",
       "      <th>13</th>\n",
       "      <td>2011 BMW 335 i</td>\n",
       "      <td>80,685 mi.</td>\n",
       "      <td>BMW of Las Vegas</td>\n",
       "      <td>4.6</td>\n",
       "      <td>(1,452 reviews)</td>\n",
       "      <td>$16,798</td>\n",
       "    </tr>\n",
       "    <tr>\n",
       "      <th>14</th>\n",
       "      <td>2009 BMW 335 i xDrive</td>\n",
       "      <td>132,365 mi.</td>\n",
       "      <td>Next Gear Auto Sales</td>\n",
       "      <td>4.6</td>\n",
       "      <td>(5 reviews)</td>\n",
       "      <td>$8,500</td>\n",
       "    </tr>\n",
       "    <tr>\n",
       "      <th>15</th>\n",
       "      <td>2010 BMW 335 i</td>\n",
       "      <td>96,359 mi.</td>\n",
       "      <td>Cox &amp; Co. Motorcars</td>\n",
       "      <td>4.8</td>\n",
       "      <td>(49 reviews)</td>\n",
       "      <td>$15,990</td>\n",
       "    </tr>\n",
       "    <tr>\n",
       "      <th>16</th>\n",
       "      <td>2008 BMW 335 i</td>\n",
       "      <td>90,939 mi.</td>\n",
       "      <td>Automotion sales</td>\n",
       "      <td>3.4</td>\n",
       "      <td>(11 reviews)</td>\n",
       "      <td>$13,497</td>\n",
       "    </tr>\n",
       "    <tr>\n",
       "      <th>17</th>\n",
       "      <td>2011 BMW 335 i xDrive</td>\n",
       "      <td>34,908 mi.</td>\n",
       "      <td>East Coast Auto Group of Linden</td>\n",
       "      <td>3.7</td>\n",
       "      <td>(45 reviews)</td>\n",
       "      <td>$19,998</td>\n",
       "    </tr>\n",
       "    <tr>\n",
       "      <th>18</th>\n",
       "      <td>2011 BMW 335 i</td>\n",
       "      <td>136,956 mi.</td>\n",
       "      <td>RPM Motors</td>\n",
       "      <td>3.6</td>\n",
       "      <td>(7 reviews)</td>\n",
       "      <td>$11,900</td>\n",
       "    </tr>\n",
       "    <tr>\n",
       "      <th>19</th>\n",
       "      <td>2011 BMW 335 i</td>\n",
       "      <td>73,478 mi.</td>\n",
       "      <td>Freeway Chevrolet</td>\n",
       "      <td>4.7</td>\n",
       "      <td>(1,348 reviews)</td>\n",
       "      <td>$17,995</td>\n",
       "    </tr>\n",
       "  </tbody>\n",
       "</table>\n",
       "</div>"
      ],
      "text/plain": [
       "                     Name      Mileage  \\\n",
       "0          2009 BMW 335 i   76,192 mi.   \n",
       "1   2011 BMW 335 i xDrive   66,689 mi.   \n",
       "2          2010 BMW 335 i   42,951 mi.   \n",
       "3         2011 BMW 335 is   63,000 mi.   \n",
       "4          2009 BMW 335 i   80,386 mi.   \n",
       "5          2011 BMW 335 i  144,225 mi.   \n",
       "6          2011 BMW 335 i   55,578 mi.   \n",
       "7          2010 BMW 335 i   50,446 mi.   \n",
       "8          2011 BMW 335 i   76,009 mi.   \n",
       "9          2010 BMW 335 i   81,942 mi.   \n",
       "10         2010 BMW 335 i   86,733 mi.   \n",
       "11        2011 BMW 335 is   80,520 mi.   \n",
       "12         2011 BMW 335 i   51,553 mi.   \n",
       "13         2011 BMW 335 i   80,685 mi.   \n",
       "14  2009 BMW 335 i xDrive  132,365 mi.   \n",
       "15         2010 BMW 335 i   96,359 mi.   \n",
       "16         2008 BMW 335 i   90,939 mi.   \n",
       "17  2011 BMW 335 i xDrive   34,908 mi.   \n",
       "18         2011 BMW 335 i  136,956 mi.   \n",
       "19         2011 BMW 335 i   73,478 mi.   \n",
       "\n",
       "                                          Dealer Name Rating     Rating Count  \\\n",
       "0                                    Jet's Auto Sales    3.0     (35 reviews)   \n",
       "1                                   Fort Wayne Nissan    4.5    (651 reviews)   \n",
       "2                                       Carmel Motors    3.8     (77 reviews)   \n",
       "3                                                 n/a    n/a              n/a   \n",
       "4                                  Mac Haik Chevrolet    4.5    (637 reviews)   \n",
       "5                                       Auto Boutique    4.8  (1,040 reviews)   \n",
       "6   CarMax West Sahara - Now offering Curbside Pic...    2.6     (11 reviews)   \n",
       "7                                        Ride N Drive    4.4     (21 reviews)   \n",
       "8                                 Cox & Co. Motorcars    4.8     (49 reviews)   \n",
       "9                                   Newberg Chevrolet    4.5     (74 reviews)   \n",
       "10                             BMW Mini of Birmingham    4.6    (711 reviews)   \n",
       "11                                 Atlantis Auto City    3.9     (29 reviews)   \n",
       "12                                  North Bay Imports    4.5    (136 reviews)   \n",
       "13                                   BMW of Las Vegas    4.6  (1,452 reviews)   \n",
       "14                               Next Gear Auto Sales    4.6      (5 reviews)   \n",
       "15                                Cox & Co. Motorcars    4.8     (49 reviews)   \n",
       "16                                   Automotion sales    3.4     (11 reviews)   \n",
       "17                    East Coast Auto Group of Linden    3.7     (45 reviews)   \n",
       "18                                         RPM Motors    3.6      (7 reviews)   \n",
       "19                                  Freeway Chevrolet    4.7  (1,348 reviews)   \n",
       "\n",
       "      Price  \n",
       "0   $16,995  \n",
       "1   $15,291  \n",
       "2   $21,995  \n",
       "3   $28,500  \n",
       "4   $13,991  \n",
       "5    $8,000  \n",
       "6   $23,998  \n",
       "7   $17,988  \n",
       "8   $19,990  \n",
       "9   $16,800  \n",
       "10  $12,997  \n",
       "11  $19,995  \n",
       "12  $22,995  \n",
       "13  $16,798  \n",
       "14   $8,500  \n",
       "15  $15,990  \n",
       "16  $13,497  \n",
       "17  $19,998  \n",
       "18  $11,900  \n",
       "19  $17,995  "
      ]
     },
     "execution_count": 19,
     "metadata": {},
     "output_type": "execute_result"
    }
   ],
   "source": [
    "bmw335i_df"
   ]
  },
  {
   "cell_type": "markdown",
   "metadata": {},
   "source": [
    "#### Data Cleaning"
   ]
  },
  {
   "cell_type": "code",
   "execution_count": null,
   "metadata": {},
   "outputs": [],
   "source": []
  },
  {
   "cell_type": "code",
   "execution_count": null,
   "metadata": {},
   "outputs": [],
   "source": []
  },
  {
   "cell_type": "markdown",
   "metadata": {},
   "source": [
    "### Output in Excel"
   ]
  }
 ],
 "metadata": {
  "kernelspec": {
   "display_name": "Python 3 (ipykernel)",
   "language": "python",
   "name": "python3"
  },
  "language_info": {
   "codemirror_mode": {
    "name": "ipython",
    "version": 3
   },
   "file_extension": ".py",
   "mimetype": "text/x-python",
   "name": "python",
   "nbconvert_exporter": "python",
   "pygments_lexer": "ipython3",
   "version": "3.9.7"
  }
 },
 "nbformat": 4,
 "nbformat_minor": 4
}
