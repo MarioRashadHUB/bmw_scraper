{
 "cells": [
  {
   "cell_type": "markdown",
   "metadata": {},
   "source": [
    "### Imports"
   ]
  },
  {
   "cell_type": "code",
   "execution_count": 1,
   "metadata": {},
   "outputs": [],
   "source": [
    "from bs4 import BeautifulSoup\n",
    "import requests\n",
    "import pandas as pd"
   ]
  },
  {
   "cell_type": "markdown",
   "metadata": {},
   "source": [
    "### HTTP Request"
   ]
  },
  {
   "cell_type": "markdown",
   "metadata": {},
   "source": [
    "#### store website in variable"
   ]
  },
  {
   "cell_type": "code",
   "execution_count": 2,
   "metadata": {},
   "outputs": [],
   "source": [
    "website = 'https://www.cars.com/shopping/results/?dealer_id=&keyword=&list_price_max=&list_price_min=&makes[]=bmw&maximum_distance=all&mileage_max=&page_size=20&sort=best_match_desc&stock_type=cpo&year_max=&year_min=&zip='"
   ]
  },
  {
   "cell_type": "markdown",
   "metadata": {},
   "source": [
    "#### Get Request"
   ]
  },
  {
   "cell_type": "code",
   "execution_count": 3,
   "metadata": {},
   "outputs": [],
   "source": [
    "response = requests.get(website)"
   ]
  },
  {
   "cell_type": "markdown",
   "metadata": {},
   "source": [
    "#### Status Code"
   ]
  },
  {
   "cell_type": "code",
   "execution_count": 4,
   "metadata": {},
   "outputs": [
    {
     "data": {
      "text/plain": [
       "200"
      ]
     },
     "execution_count": 4,
     "metadata": {},
     "output_type": "execute_result"
    }
   ],
   "source": [
    "response.status_code"
   ]
  },
  {
   "cell_type": "markdown",
   "metadata": {},
   "source": [
    "### Soup Object"
   ]
  },
  {
   "cell_type": "code",
   "execution_count": 5,
   "metadata": {},
   "outputs": [],
   "source": [
    "soup = BeautifulSoup(response.content, 'html.parser')"
   ]
  },
  {
   "cell_type": "markdown",
   "metadata": {},
   "source": [
    "### Results"
   ]
  },
  {
   "cell_type": "code",
   "execution_count": 7,
   "metadata": {},
   "outputs": [],
   "source": [
    "results = soup.find_all('div', {'class':'vehicle-card'})"
   ]
  },
  {
   "cell_type": "code",
   "execution_count": 8,
   "metadata": {},
   "outputs": [
    {
     "data": {
      "text/plain": [
       "20"
      ]
     },
     "execution_count": 8,
     "metadata": {},
     "output_type": "execute_result"
    }
   ],
   "source": [
    "len(results)"
   ]
  },
  {
   "cell_type": "code",
   "execution_count": 9,
   "metadata": {},
   "outputs": [
    {
     "data": {
      "text/plain": [
       "<div class=\"vehicle-card\" data-listing-id=\"c798c23e-c4d4-4e57-b365-a0ab2d0e4d90\" data-override-payload='{\"sponsored_type\":\"none\",\"vertical_position\":1}' data-tracking-id=\"1\" data-tracking-type=\"srp-vehicle-card\" id=\"c798c23e-c4d4-4e57-b365-a0ab2d0e4d90\" phx-hook=\"VehicleCard\" phx-target=\"5\">\n",
       "<a class=\"vehicle-card-visited-tracking-link\" href=\"/vehicledetail/c798c23e-c4d4-4e57-b365-a0ab2d0e4d90/\" rel=\"nofollow\" tabindex=\"-1\"></a>\n",
       "<div class=\"vehicle-card-main js-gallery-click-card\">\n",
       "<div class=\"vehicle-card-photos js-gallery-click-gallery\">\n",
       "<div class=\"gallery-wrap\">\n",
       "<div aria-label=\"Photo 1 of 9 of 2021 BMW X1 sDrive28i\" class=\"image-wrap\" data-index=\"0\">\n",
       "<img alt=\"Photo 1 of 9 of 2021 BMW X1 sDrive28i\" class=\"vehicle-image\" loading=\"lazy\" src=\"https://platform.cstatic-images.com/large/in/v2/e2645433-cc7d-5e26-b654-f5677446204e/dc8751a2-0d51-43c4-9a68-37eb89c14135/ZJWCa8ft34Tqte3TB8Z_MQ0RVeE.jpg\"/>\n",
       "</div>\n",
       "<div aria-label=\"Photo 2 of 9 of 2021 BMW X1 sDrive28i\" class=\"image-wrap\" data-index=\"1\">\n",
       "<img alt=\"Photo 2 of 9 of 2021 BMW X1 sDrive28i\" class=\"vehicle-image\" loading=\"lazy\" src=\"https://platform.cstatic-images.com/large/in/v2/e2645433-cc7d-5e26-b654-f5677446204e/dc8751a2-0d51-43c4-9a68-37eb89c14135/PJdbnTwOxcvJgIWA4zcjQM0Xph4.jpg\"/>\n",
       "</div>\n",
       "<div aria-label=\"Photo 3 of 9 of 2021 BMW X1 sDrive28i\" class=\"image-wrap\" data-index=\"2\">\n",
       "<img alt=\"Photo 3 of 9 of 2021 BMW X1 sDrive28i\" class=\"vehicle-image\" loading=\"lazy\" src=\"https://platform.cstatic-images.com/large/in/v2/e2645433-cc7d-5e26-b654-f5677446204e/dc8751a2-0d51-43c4-9a68-37eb89c14135/JjjohryG-6L_1fixGupYz_PXpYg.jpg\"/>\n",
       "</div>\n",
       "<div aria-label=\"Photo 4 of 9 of 2021 BMW X1 sDrive28i\" class=\"image-wrap\" data-index=\"3\">\n",
       "<img alt=\"Photo 4 of 9 of 2021 BMW X1 sDrive28i\" class=\"vehicle-image\" loading=\"lazy\" src=\"https://platform.cstatic-images.com/large/in/v2/e2645433-cc7d-5e26-b654-f5677446204e/dc8751a2-0d51-43c4-9a68-37eb89c14135/Rwy_UmvQ993UQXNlUW57mdMem4k.jpg\"/>\n",
       "</div>\n",
       "<div aria-label=\"Photo 5 of 9 of 2021 BMW X1 sDrive28i\" class=\"image-wrap\" data-index=\"4\">\n",
       "<img alt=\"Photo 5 of 9 of 2021 BMW X1 sDrive28i\" class=\"vehicle-image\" loading=\"lazy\" src=\"https://platform.cstatic-images.com/large/in/v2/e2645433-cc7d-5e26-b654-f5677446204e/dc8751a2-0d51-43c4-9a68-37eb89c14135/m3Q9ejDHt0vsOgop67NMVRa4mbU.jpg\"/>\n",
       "</div>\n",
       "<div aria-label=\"Photo 6 of 9 of 2021 BMW X1 sDrive28i\" class=\"image-wrap\" data-index=\"5\">\n",
       "<div class=\"gallery-view-all\">\n",
       "<img alt=\"\" class=\"vehicle-image js-lazy-load styles-lazy-load\" data-src=\"https://platform.cstatic-images.com/large/in/v2/e2645433-cc7d-5e26-b654-f5677446204e/dc8751a2-0d51-43c4-9a68-37eb89c14135/ohYJ3cZjXecZrZm9Mb6yEElAuZA.jpg\" src=\"/images/placeholder_10x10.png\"/>\n",
       "<div class=\"sds-button sds-button--secondary-dense\">View all 9 photos</div>\n",
       "</div>\n",
       "</div>\n",
       "</div>\n",
       "<button class=\"image-control-left\">\n",
       "<div class=\"rectangle rectangle-left\">\n",
       "<svg class=\"sds-text-field__icon\" height=\"16\" width=\"16\"><use xlink:href=\"/svg/spritemap-9957805ae2a418ae7507c2b0e074f33e.svg?vsn=d#chevron-down\"></use></svg>\n",
       "</div>\n",
       "</button>\n",
       "<button class=\"image-control-right\">\n",
       "<div class=\"rectangle rectangle-right\">\n",
       "<svg class=\"sds-text-field__icon\" height=\"16\" width=\"16\"><use xlink:href=\"/svg/spritemap-9957805ae2a418ae7507c2b0e074f33e.svg?vsn=d#chevron-down\"></use></svg>\n",
       "</div>\n",
       "</button>\n",
       "<div class=\"gallery-indicator\"><span class=\"gallery-indicator-current-image\">1</span>/9</div>\n",
       "<div class=\"gallery-nav\">\n",
       "<div class=\"image-indicator selected\"></div>\n",
       "<div class=\"image-indicator\"></div>\n",
       "<div class=\"image-indicator\"></div>\n",
       "<div class=\"image-indicator\"></div>\n",
       "<div class=\"image-indicator\"></div>\n",
       "<div class=\"image-indicator\"></div>\n",
       "</div>\n",
       "</div>\n",
       "<div class=\"vehicle-details\">\n",
       "<div class=\"save-vehicle\">\n",
       "<div class=\"favorite\">\n",
       "<button class=\"heart\" data-activity-rule-type=\"custom\" data-component=\"save-vehicle-add\" data-index=\"1\" data-linkname=\"save-vehicle-sign-up\" data-listing-id=\"c798c23e-c4d4-4e57-b365-a0ab2d0e4d90\" id=\"vehicle-heart-1\" onclick=\"event.preventDefault()\" phx-click=\"save_listing\" phx-hook=\"RecordSaveListingAction\" phx-target=\"83\" phx-value-is_vdp=\"false\" phx-value-listing_id=\"c798c23e-c4d4-4e57-b365-a0ab2d0e4d90\">\n",
       "<svg class=\"sds-text-field__icon\" height=\"16\" width=\"16\"><use xlink:href=\"/svg/spritemap-9957805ae2a418ae7507c2b0e074f33e.svg?vsn=d#heart\"></use></svg>\n",
       "<span class=\"text\">Save</span>\n",
       "</button>\n",
       "</div>\n",
       "</div>\n",
       "<p class=\"stock-type\">BMW Certified</p>\n",
       "<a class=\"vehicle-card-link js-gallery-click-link\" data-activity-rule-type=\"page-over-page\" data-linkname=\"vehicle-listing\" href=\"/vehicledetail/c798c23e-c4d4-4e57-b365-a0ab2d0e4d90/\" rel=\"nofollow\" target=\"\">\n",
       "<h2 class=\"title\">2021 BMW X1 sDrive28i</h2>\n",
       "</a>\n",
       "<div class=\"mileage\">16,988 mi.</div>\n",
       "<div class=\"price-section price-section-vehicle-card\">\n",
       "<span class=\"primary-price\">$39,046</span>\n",
       "</div>\n",
       "<div class=\"vehicle-badging\" data-click-intent-id=\"badges-explainer\" data-contents=\"{&quot;cpo_badge&quot;:true,&quot;home_delivery_badge&quot;:true,&quot;price_badge&quot;:{&quot;price_badge&quot;:&quot;competitively&quot;,&quot;price_badge_description&quot;:&quot;This car presents a good buying opportunity. Our analysis compares this car's price, features, and condition with similar 2021 X1s.&quot;,&quot;price_badge_savings_icon_text&quot;:&quot;&quot;,&quot;price_badge_text&quot;:&quot;Good&quot;,&quot;price_badge_text_lowercase&quot;:&quot;good&quot;,&quot;price_savings_text&quot;:&quot;&quot;,&quot;svg_tag&quot;:&quot;&lt;svg class=\\&quot;sds-text-field__icon\\&quot; height=\\&quot;16\\&quot; width=\\&quot;16\\&quot;&gt;&lt;use xlink:href=\\&quot;/svg/spritemap-9957805ae2a418ae7507c2b0e074f33e.svg?vsn=d#arrow-up-right-thick\\&quot;&gt;&lt;/use&gt;&lt;/svg&gt;&quot;},&quot;virtual_appointments_badge&quot;:true,&quot;href_to_vdp&quot;:{&quot;href_to_vdp&quot;:&quot;/vehicledetail/c798c23e-c4d4-4e57-b365-a0ab2d0e4d90/?bodystyle=suv&amp;cpo_indicator=true&amp;customer_id=88265&amp;intent_id=badges-explainer&amp;listing_id=c798c23e-c4d4-4e57-b365-a0ab2d0e4d90&amp;make=bmw&amp;model=x1&amp;model_year=2021&amp;msrp=&amp;price=39046&amp;sponsored%3F=false&amp;stock_type=used&amp;trim=sdrive28i&quot;}}\" data-override-payload='{\"bodystyle\":\"suv\",\"cpo_indicator\":true,\"customer_id\":\"88265\",\"horizontal_position\":null,\"listing_id\":\"c798c23e-c4d4-4e57-b365-a0ab2d0e4d90\",\"make\":\"bmw\",\"model\":\"x1\",\"model_year\":\"2021\",\"msrp\":null,\"price\":\"39046\",\"results_page_number\":1,\"sponsored?\":false,\"stock_type\":\"used\",\"trim\":\"sdrive28i\",\"vertical_position\":1,\"web_page_type_from\":\"shopping/search-results\"}' data-target=\"#sds-modal\" data-toggle=\"expanda-modal\" tabindex=\"0\">\n",
       "<div aria-label=\"price_badge\" class=\"sds-badge sds-badge--icon sds-badge--good js-price-badging\" data-linkname=\"price-badge-good\">\n",
       "<div class=\"sds-badge__icon\">\n",
       "<svg class=\"sds-text-field__icon\" height=\"16\" width=\"16\"><use xlink:href=\"/svg/spritemap-9957805ae2a418ae7507c2b0e074f33e.svg?vsn=d#arrow-up-right-thick\"></use></svg>\n",
       "</div>\n",
       "<span class=\"sds-badge__label\">Good Deal<span class=\"sds-badge--price-savings\"></span></span>\n",
       "</div>\n",
       "<div class=\"sds-badge sds-badge--cpo\">\n",
       "<span class=\"sds-badge__label\">CPO Warrantied</span>\n",
       "</div>\n",
       "<div class=\"sds-badge sds-badge--home-delivery\">\n",
       "<span class=\"sds-badge__label\">Home Delivery</span>\n",
       "</div>\n",
       "<div class=\"sds-badge sds-badge--virtual-appointments\">\n",
       "<span class=\"sds-badge__label\">Virtual Appointments</span>\n",
       "</div>\n",
       "</div>\n",
       "<div class=\"vehicle-links external-links\">\n",
       "<div class=\"vehicle-deeplink\">\n",
       "<a aria-describedby=\"new-tab-link\" aria-label=\"Free AutoCheck Report, External link\" class=\"sds-link--ext\" data-activity-rule-type=\"custom\" data-component=\"vehicle-history\" data-event-list=\"event96\" data-linkname=\"autocheck-free\" data-override-payload='{\"page_url\":\"/vehiclehistory/c798c23e-c4d4-4e57-b365-a0ab2d0e4d90/autocheck/\",\"web_page_type_to\":\"autocheck-free\"}' data-vehicle-history-intent-id=\"srp-vehicle-history-report\" href=\"/vehiclehistory/c798c23e-c4d4-4e57-b365-a0ab2d0e4d90/autocheck/\" linkname=\"autocheck-free\" rel=\"noopener nofollow\" target=\"_blank\">Free AutoCheck Report<svg class=\"sds-text-field__icon\" height=\"16\" width=\"16\"><use xlink:href=\"/svg/spritemap-9957805ae2a418ae7507c2b0e074f33e.svg?vsn=d#arrow-up-right\"></use></svg></a>\n",
       "</div>\n",
       "</div>\n",
       "<div class=\"vehicle-dealer\">\n",
       "<div class=\"dealer-name\">\n",
       "<strong>BMW of South Atlanta</strong>\n",
       "</div>\n",
       "<div class=\"sds-rating\">\n",
       "<span class=\"sds-rating__count\">4.5</span>\n",
       "<div class=\"sds-rating__wrapper\">\n",
       "<span class=\"sds-rating__item sds-icon--filled\">\n",
       "<svg fill=\"none\" height=\"24\" stroke=\"#000000\" viewbox=\"0 0 24 24\" width=\"24\" xmlns=\"http://www.w3.org/2000/svg\">\n",
       "<polygon points=\"12 2 15.09 8.26 22 9.27 17 14.14 18.18 21.02 12 17.77 5.82 21.02 7 14.14 2 9.27 8.91 8.26 12 2\" stroke-linecap=\"round\" stroke-linejoin=\"round\" stroke-width=\"2\"></polygon>\n",
       "</svg>\n",
       "</span>\n",
       "<span class=\"sds-rating__item sds-icon--filled\">\n",
       "<svg fill=\"none\" height=\"24\" stroke=\"#000000\" viewbox=\"0 0 24 24\" width=\"24\" xmlns=\"http://www.w3.org/2000/svg\">\n",
       "<polygon points=\"12 2 15.09 8.26 22 9.27 17 14.14 18.18 21.02 12 17.77 5.82 21.02 7 14.14 2 9.27 8.91 8.26 12 2\" stroke-linecap=\"round\" stroke-linejoin=\"round\" stroke-width=\"2\"></polygon>\n",
       "</svg>\n",
       "</span>\n",
       "<span class=\"sds-rating__item sds-icon--filled\">\n",
       "<svg fill=\"none\" height=\"24\" stroke=\"#000000\" viewbox=\"0 0 24 24\" width=\"24\" xmlns=\"http://www.w3.org/2000/svg\">\n",
       "<polygon points=\"12 2 15.09 8.26 22 9.27 17 14.14 18.18 21.02 12 17.77 5.82 21.02 7 14.14 2 9.27 8.91 8.26 12 2\" stroke-linecap=\"round\" stroke-linejoin=\"round\" stroke-width=\"2\"></polygon>\n",
       "</svg>\n",
       "</span>\n",
       "<span class=\"sds-rating__item sds-icon--filled\">\n",
       "<svg fill=\"none\" height=\"24\" stroke=\"#000000\" viewbox=\"0 0 24 24\" width=\"24\" xmlns=\"http://www.w3.org/2000/svg\">\n",
       "<polygon points=\"12 2 15.09 8.26 22 9.27 17 14.14 18.18 21.02 12 17.77 5.82 21.02 7 14.14 2 9.27 8.91 8.26 12 2\" stroke-linecap=\"round\" stroke-linejoin=\"round\" stroke-width=\"2\"></polygon>\n",
       "</svg>\n",
       "</span>\n",
       "<span class=\"sds-rating__item sds-icon--half\">\n",
       "<svg fill=\"none\" height=\"24\" stroke=\"#000000\" viewbox=\"0 0 24 24\" width=\"24\" xmlns=\"http://www.w3.org/2000/svg\">\n",
       "<defs>\n",
       "<lineargradient id=\"linear\" x1=\"0%\" x2=\"100%\" y1=\"0%\" y2=\"0%\">\n",
       "<stop offset=\"0%\" stop-color=\"#532380\"></stop>\n",
       "<stop offset=\"50%\" stop-color=\"#532380\"></stop>\n",
       "<stop offset=\"50%\" stop-color=\"transparent\"></stop>\n",
       "<stop offset=\"100%\" stop-color=\"transparent\"></stop>\n",
       "</lineargradient>\n",
       "</defs>\n",
       "<polygon points=\"12 2 15.09 8.26 22 9.27 17 14.14 18.18 21.02 12 17.77 5.82 21.02 7 14.14 2 9.27 8.91 8.26 12 2\" stroke-linecap=\"round\" stroke-linejoin=\"round\" stroke-width=\"2\"></polygon>\n",
       "</svg>\n",
       "</span>\n",
       "</div>\n",
       "<span class=\"sds-rating__link sds-button-link\">(443 reviews)</span>\n",
       "</div>\n",
       "<div class=\"miles-from hidden\"> mi. from </div>\n",
       "</div>\n",
       "<div class=\"miles-from hidden\"> mi. from </div>\n",
       "</div>\n",
       "<div class=\"contact-buttons\" id=\"c798c23e-c4d4-4e57-b365-a0ab2d0e4d90-lead-btns\">\n",
       "<a class=\"sds-button--secondary contact-by-phone\" data-activity-rule-type=\"custom\" data-call-intent-id=\"srp-call-intent\" data-index=\"1\" data-linkname=\"dealer-phone-srp\" data-listing-id=\"c798c23e-c4d4-4e57-b365-a0ab2d0e4d90\" data-make=\"BMW\" data-model=\"X1\" data-phone-number=\"8664146808\" data-trim=\"sDrive28i\" data-vin=\"WBXJG7C05M5T09351\" data-year=\"2021\" href=\"tel:+1-866-414-6808\" id=\"dealer-phone-c798c23e-c4d4-4e57-b365-a0ab2d0e4d90\" phx-hook=\"CallSourceDniSRPCallButton\" phx-update=\"ignore\">Call</a>\n",
       "<button class=\"sds-button lead-form-modal-button\" data-activity-rule-type=\"custom\" data-dealer-customer-id=\"88265\" data-index=\"1\" data-linkname=\"email-lead-form-srp\" data-listing-id=\"c798c23e-c4d4-4e57-b365-a0ab2d0e4d90\" data-sponsored=\"false\" data-sponsored-invariant=\"false\" id=\"lead-form-email-c798c23e-c4d4-4e57-b365-a0ab2d0e4d90\" phx-hook=\"ShowLeadForm\">Check availability</button>\n",
       "<button class=\"sds-button lead-form-modal-button--desktop srp\" data-activity-rule-type=\"custom\" data-dealer-customer-id=\"88265\" data-index=\"1\" data-linkname=\"email-lead-form-srp\" data-listing-id=\"c798c23e-c4d4-4e57-b365-a0ab2d0e4d90\" data-sponsored=\"false\" data-sponsored-invariant=\"false\" id=\"lead-form-c798c23e-c4d4-4e57-b365-a0ab2d0e4d90\" phx-hook=\"ShowLeadForm\">Check availability</button>\n",
       "</div>\n",
       "</div>\n",
       "</div>"
      ]
     },
     "execution_count": 9,
     "metadata": {},
     "output_type": "execute_result"
    }
   ],
   "source": [
    "results[0]"
   ]
  },
  {
   "cell_type": "markdown",
   "metadata": {},
   "source": [
    "### Target necessary data"
   ]
  },
  {
   "cell_type": "code",
   "execution_count": 10,
   "metadata": {},
   "outputs": [],
   "source": [
    "# Name\n",
    "# Mileage\n",
    "# Dealer Name\n",
    "# Rating\n",
    "# Rating Count\n",
    "# Price\n",
    "# Car dealer name"
   ]
  },
  {
   "cell_type": "markdown",
   "metadata": {},
   "source": [
    "#### Name"
   ]
  },
  {
   "cell_type": "code",
   "execution_count": 11,
   "metadata": {},
   "outputs": [
    {
     "data": {
      "text/plain": [
       "'2021 BMW X1 sDrive28i'"
      ]
     },
     "execution_count": 11,
     "metadata": {},
     "output_type": "execute_result"
    }
   ],
   "source": [
    "results[0].find('h2').get_text()"
   ]
  },
  {
   "cell_type": "markdown",
   "metadata": {},
   "source": [
    "#### Mileage"
   ]
  },
  {
   "cell_type": "code",
   "execution_count": 12,
   "metadata": {},
   "outputs": [
    {
     "data": {
      "text/plain": [
       "'16,988 mi.'"
      ]
     },
     "execution_count": 12,
     "metadata": {},
     "output_type": "execute_result"
    }
   ],
   "source": [
    "results[0].find('div', {'class':'mileage'}).get_text()"
   ]
  },
  {
   "cell_type": "markdown",
   "metadata": {},
   "source": [
    "#### Dealer Name"
   ]
  },
  {
   "cell_type": "code",
   "execution_count": 13,
   "metadata": {},
   "outputs": [
    {
     "data": {
      "text/plain": [
       "'\\nBMW of South Atlanta\\n'"
      ]
     },
     "execution_count": 13,
     "metadata": {},
     "output_type": "execute_result"
    }
   ],
   "source": [
    "results[0].find('div', {'class':'dealer-name'}).get_text()"
   ]
  },
  {
   "cell_type": "markdown",
   "metadata": {},
   "source": [
    "#### Rating"
   ]
  },
  {
   "cell_type": "code",
   "execution_count": 14,
   "metadata": {},
   "outputs": [
    {
     "data": {
      "text/plain": [
       "'4.5'"
      ]
     },
     "execution_count": 14,
     "metadata": {},
     "output_type": "execute_result"
    }
   ],
   "source": [
    "results[0].find('span',{'class':'sds-rating__count'}).get_text()"
   ]
  },
  {
   "cell_type": "markdown",
   "metadata": {},
   "source": [
    "#### Review Count"
   ]
  },
  {
   "cell_type": "code",
   "execution_count": 15,
   "metadata": {},
   "outputs": [
    {
     "data": {
      "text/plain": [
       "'(443 reviews)'"
      ]
     },
     "execution_count": 15,
     "metadata": {},
     "output_type": "execute_result"
    }
   ],
   "source": [
    "results[0].find('span', {'class': 'sds-rating__link'}).get_text()"
   ]
  },
  {
   "cell_type": "markdown",
   "metadata": {},
   "source": [
    "#### Price"
   ]
  },
  {
   "cell_type": "code",
   "execution_count": 16,
   "metadata": {},
   "outputs": [
    {
     "data": {
      "text/plain": [
       "'$39,046'"
      ]
     },
     "execution_count": 16,
     "metadata": {},
     "output_type": "execute_result"
    }
   ],
   "source": [
    "results[0].find('span', {'class': 'primary-price'}).get_text()"
   ]
  },
  {
   "cell_type": "markdown",
   "metadata": {},
   "source": [
    "#### Car Dealer"
   ]
  },
  {
   "cell_type": "code",
   "execution_count": 17,
   "metadata": {},
   "outputs": [
    {
     "data": {
      "text/plain": [
       "'BMW of South Atlanta'"
      ]
     },
     "execution_count": 17,
     "metadata": {},
     "output_type": "execute_result"
    }
   ],
   "source": [
    "results[0].find('div', {'class': 'dealer-name'}).get_text().strip()"
   ]
  },
  {
   "cell_type": "markdown",
   "metadata": {},
   "source": [
    "### Put everything together inside a For-Loop"
   ]
  },
  {
   "cell_type": "code",
   "execution_count": null,
   "metadata": {},
   "outputs": [],
   "source": []
  },
  {
   "cell_type": "markdown",
   "metadata": {},
   "source": [
    "### Create Pandas Dataframe"
   ]
  },
  {
   "cell_type": "code",
   "execution_count": null,
   "metadata": {},
   "outputs": [],
   "source": []
  },
  {
   "cell_type": "code",
   "execution_count": null,
   "metadata": {},
   "outputs": [],
   "source": []
  },
  {
   "cell_type": "markdown",
   "metadata": {},
   "source": [
    "#### Data Cleaning"
   ]
  },
  {
   "cell_type": "code",
   "execution_count": null,
   "metadata": {},
   "outputs": [],
   "source": []
  },
  {
   "cell_type": "code",
   "execution_count": null,
   "metadata": {},
   "outputs": [],
   "source": []
  },
  {
   "cell_type": "markdown",
   "metadata": {},
   "source": [
    "### Output in Excel"
   ]
  }
 ],
 "metadata": {
  "kernelspec": {
   "display_name": "Python 3 (ipykernel)",
   "language": "python",
   "name": "python3"
  },
  "language_info": {
   "codemirror_mode": {
    "name": "ipython",
    "version": 3
   },
   "file_extension": ".py",
   "mimetype": "text/x-python",
   "name": "python",
   "nbconvert_exporter": "python",
   "pygments_lexer": "ipython3",
   "version": "3.9.7"
  }
 },
 "nbformat": 4,
 "nbformat_minor": 4
}
